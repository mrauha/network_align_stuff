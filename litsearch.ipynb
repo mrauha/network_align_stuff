{
 "cells": [
  {
   "cell_type": "markdown",
   "metadata": {},
   "source": [
    "# Network alignment\n",
    "\n",
    "\n",
    "- Lists of alignment tools read with Tabula from:\n",
    "1. Rodríguez Corominas, Guillem. Network alignment: an integrative view. MS thesis. Universitat Politècnica de Catalunya, 2021. [url](https://upcommons.upc.edu/handle/2117/360471), Table 2.1\n",
    "2. Ma, L.; Shao, Z.; Li, L.; Huang, J.; Wang, S.; Lin, Q.; Li, J.; Gong, M.; Nandi, A. K. Heuristics and Metaheuristics for Biological Network Alignment: A Review. Neurocomputing 2022, 491, 426–441. https://doi.org/10.1016/j.neucom.2021.08.156., Table 2\n",
    "3. Milano, M.; Zucco, C.; Settino, M.; Cannataro, M. An Extensive Assessment of Network Embedding in PPI Network Alignment. Entropy  2022, 24 (5). https://doi.org/10.3390/e24050730., Table 1\n"
   ]
  },
  {
   "cell_type": "code",
   "execution_count": 94,
   "metadata": {},
   "outputs": [],
   "source": [
    "import pandas as pd\n",
    "import re\n",
    "from bs4 import BeautifulSoup\n",
    "import requests"
   ]
  },
  {
   "cell_type": "code",
   "execution_count": 192,
   "metadata": {},
   "outputs": [],
   "source": [
    "df1 = pd.read_csv(\"data/raw_tables/tabula-160966.csv\")\n",
    "df2 = pd.read_csv(\"data/raw_tables/tabula-metaheuristic.csv\")\n",
    "df3 = pd.read_csv(\"data/raw_tables/tabula-embedding.csv\")"
   ]
  },
  {
   "cell_type": "markdown",
   "metadata": {},
   "source": [
    "## Get references for methods"
   ]
  },
  {
   "cell_type": "code",
   "execution_count": 144,
   "metadata": {},
   "outputs": [],
   "source": [
    "with open(\"data/raw_tables/not_public/Heuristics and metaheuristics for biological network alignment_ A review - ScienceDirect.html\") as f:\n",
    "    soup = BeautifulSoup(f, 'html.parser')\n",
    "refnums = soup.find_all(\"dt\",{\"class\":\"label\"})\n",
    "references = soup.find_all(\"dd\",{\"class\":\"reference\"})\n",
    "reflinks = soup.find_all(\"div\",{\"class\" : \"ReferenceLinks\"})\n"
   ]
  },
  {
   "cell_type": "code",
   "execution_count": 159,
   "metadata": {},
   "outputs": [],
   "source": [
    "# parsed manually via google scholar link, \n",
    "# could have been automated but too lazy \n",
    "# & don't want to be banned by google scholar :)\n",
    "manual_dois = {80: '10.1109/ICDM.2009.135',\n",
    " 81: '10.1109/TKDE.2011.174',\n",
    " 84: '10.1186/1756-0500-6-35',\n",
    " 87: '10.1109/TCBB.2012.142',\n",
    " 92: '10.1109/BIBM.2015.7359684',\n",
    " 94: '10.1109/TCBB.2016.2613098',\n",
    " 95: '10.1016/j.compbiolchem.2016.03.003',\n",
    " 96: '10.1109/TCBB.2016.2595583',\n",
    " 99: '10.1186/s12859-020-3502-1',\n",
    " 30: '10.1109/TCBB.2020.2985838',\n",
    " 101: '10.1186/s12859-021-03971-6',\n",
    " 103: '10.1109/TCBB.2019.2937771',\n",
    " 104: '10.1073/pnas.1534710100',\n",
    " 106: '10.1186/1471-2105-10-333',\n",
    " 107: '10.1186/1471-2105-13-S10-S18',\n",
    " 34: '10.1109/TCBB.2014.2318707',\n",
    " 110: '10.1109/TCBB.2018.2830323',\n",
    " 116: '10.4230/OASIcs.GCB.2013.68',\n",
    " 28: '10.1109/TCBB.2015.2511741',\n",
    " 29: '10.1109/TCBB.2016.2618380',\n",
    " 119: '10.1007/978-3-030-60802-6_49',\n",
    " 122: '10.1186/s12859-018-2443-4',\n",
    " 32: '10.1109/TCBB.2017.2740381'}\n",
    "\n",
    "def parse_dois(entry):\n",
    "    refn = int(entry.split()[-1][1:-1])\n",
    "    refls = reflinks[refn-1].find_all(\"a\", href=True)\n",
    "    doi = [i[\"href\"].split(\"org/\")[-1] for i in refls if \"doi\" in i[\"href\"]]\n",
    "    if len(doi)==0:\n",
    "        entries = {i.text : i[\"href\"] for i in refls}\n",
    "        # for manual gathering of dois...\n",
    "        #print(refn,entries[\"Google Scholar\"])\n",
    "        return manual_dois[refn-1]\n",
    "    else:\n",
    "        return doi[0]\n",
    "    #return doi"
   ]
  },
  {
   "cell_type": "code",
   "execution_count": 162,
   "metadata": {},
   "outputs": [],
   "source": [
    "df2[\"doi\"] = df2.Algorithms.map(parse_dois)"
   ]
  },
  {
   "cell_type": "markdown",
   "metadata": {},
   "source": [
    "# Global many-to-many aligners"
   ]
  },
  {
   "cell_type": "code",
   "execution_count": 197,
   "metadata": {},
   "outputs": [
    {
     "data": {
      "text/plain": [
       "{'BEAMS',\n",
       " 'Græmlin 2.0',\n",
       " 'IsoRankN',\n",
       " 'NetCoffee',\n",
       " 'PrimAlign',\n",
       " 'SMETANA',\n",
       " 'SMETANA-CSRW',\n",
       " 'TARA',\n",
       " 'TARA++',\n",
       " 'TARA-TS'}"
      ]
     },
     "execution_count": 197,
     "metadata": {},
     "output_type": "execute_result"
    }
   ],
   "source": [
    "gm2m = df1[(df1[\"Local/Global\"] != \"Local\") & (df1[\"Mapping\"] == \"Many-to-many\") ] \n",
    "gm2m2 = df3[(df3[\"GNA or LNA\"] == \"GNA\") & (df3[\"Mapping\"] == \"Many-to-many\")]\n",
    "set(list(gm2m.Method) + list(gm2m2.Algorithm))"
   ]
  },
  {
   "cell_type": "markdown",
   "metadata": {},
   "source": [
    "## Todo\n",
    "- combine lists"
   ]
  },
  {
   "cell_type": "markdown",
   "metadata": {},
   "source": [
    "# Other many-to-many algorithms found\n",
    "\n",
    "- FLAN\n",
    "    - Malmi, E.; Chawla, S.; Gionis, A. Lagrangian Relaxations for Multiple Network Alignment. Data Min. Knowl. Discov. 2017, 31 (5), 1331–1358. https://doi.org/10.1007/s10618-017-0505-2.\n",
    "    - https://github.com/ekQ/flan\n",
    "    - \n",
    "   \"Cornuejols et al. [10] show that it is well suited for the uncapacitated facility location problem where the one-to-one constraint on sites and facilities is relaxed. Klau [18] later shows that it is also applicable to the pairwise network alignment problem where a symmetry constraint is relaxed. Our multiple network alignment method combines these two ideas and **relaxes both the one-to-one constraint (13) and the symmetry constraint (17) to make the relaxed problem feasible**. Another related application of the Lagrangian relaxation approach is by Althaus and Canzar [1] who adopt it for multiple sequence alignment.\"\n",
    "- Node Handprinting\n",
    "    - No code available\n",
    "\t- Radu, A.; Charleston, M. Node Handprinting: A Scalable and Accurate Algorithm for Aligning Multiple Biological Networks. _J. Comput. Biol._ **2015**, _22_ (7), 687–697. https://doi.org/10.1089/cmb.2014.0247.\n",
    "    \n",
    "# (Le)PrimAlign source code\n",
    "- https://it.yonsei.ac.kr/adslab/LePrimAlign/\n",
    "- https://it.yonsei.ac.kr/adslab/PrimAlign/\n",
    "    \n",
    "# Maximum weight bipartite b-matching\n",
    "- https://stackoverflow.com/questions/50908267/solving-a-maximum-weight-bipartite-b-matching#comment89165136_50959413\n",
    "- https://github.com/faezahmed/diverse_matching\n",
    "- https://github.com/sinaahmadi/Bipartite_b_matching"
   ]
  },
  {
   "cell_type": "code",
   "execution_count": null,
   "metadata": {},
   "outputs": [],
   "source": []
  }
 ],
 "metadata": {
  "kernelspec": {
   "display_name": "Python 3",
   "language": "python",
   "name": "python3"
  },
  "language_info": {
   "codemirror_mode": {
    "name": "ipython",
    "version": 3
   },
   "file_extension": ".py",
   "mimetype": "text/x-python",
   "name": "python",
   "nbconvert_exporter": "python",
   "pygments_lexer": "ipython3",
   "version": "3.8.6"
  }
 },
 "nbformat": 4,
 "nbformat_minor": 4
}
